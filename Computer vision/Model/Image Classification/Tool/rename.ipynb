{
 "cells": [
  {
   "cell_type": "code",
   "execution_count": 1,
   "metadata": {},
   "outputs": [
    {
     "name": "stdout",
     "output_type": "stream",
     "text": [
      "Renamed ./pin\\pincase202409201090.jpg to ./pin\\foodthai_1.jpg\n",
      "Renamed ./pin\\pincase202409201359.jpg to ./pin\\foodthai_2.jpg\n",
      "Renamed ./pin\\pincase202409202267.jpg to ./pin\\foodthai_3.jpg\n",
      "Renamed ./pin\\pincase202409203392.jpg to ./pin\\foodthai_4.jpg\n",
      "Renamed ./pin\\pincase202409203954.jpg to ./pin\\foodthai_5.jpg\n",
      "Renamed ./pin\\pincase202409204111.jpg to ./pin\\foodthai_6.jpg\n",
      "Renamed ./pin\\pincase202409204770.jpg to ./pin\\foodthai_7.jpg\n",
      "Renamed ./pin\\pincase202409205241.jpg to ./pin\\foodthai_8.jpg\n",
      "Renamed ./pin\\pincase202409206589.jpg to ./pin\\foodthai_9.jpg\n",
      "Renamed ./pin\\pincase202409206777.jpg to ./pin\\foodthai_10.jpg\n",
      "Renamed ./pin\\pincase202409207927.jpg to ./pin\\foodthai_11.jpg\n",
      "Renamed ./pin\\pincase202409208155.jpg to ./pin\\foodthai_12.jpg\n",
      "Renamed ./pin\\pincase202409208185.jpg to ./pin\\foodthai_13.jpg\n",
      "Renamed ./pin\\pincase202409208639.jpg to ./pin\\foodthai_14.jpg\n",
      "Renamed ./pin\\pincase202409209083.jpg to ./pin\\foodthai_15.jpg\n",
      "Renamed ./pin\\pincase202409209350.jpg to ./pin\\foodthai_16.jpg\n",
      "Renamed ./pin\\pincase202409209473.jpg to ./pin\\foodthai_17.jpg\n",
      "Renamed ./pin\\pincase202409209533.jpg to ./pin\\foodthai_18.jpg\n",
      "Renamed ./pin\\pincase202409209554.jpg to ./pin\\foodthai_19.jpg\n",
      "Renamed ./pin\\pincase202409209769.jpg to ./pin\\foodthai_20.jpg\n"
     ]
    }
   ],
   "source": [
    "import os\n",
    "\n",
    "def rename_images_in_folder(folder_path, prefix):\n",
    "    for count, filename in enumerate(os.listdir(folder_path), start=1):  # เริ่มจาก 1\n",
    "        if filename.endswith(('.png', '.jpg', '.jpeg', '.gif', '.bmp')):\n",
    "            new_name = f\"{prefix}_{count}{os.path.splitext(filename)[1]}\"\n",
    "            src = os.path.join(folder_path, filename)\n",
    "            dst = os.path.join(folder_path, new_name)\n",
    "            os.rename(src, dst)\n",
    "            print(f\"Renamed {src} to {dst}\")\n",
    "\n",
    "# ตัวอย่างการใช้งาน:\n",
    "rename_images_in_folder('./pin', 'foodthai')\n"
   ]
  }
 ],
 "metadata": {
  "kernelspec": {
   "display_name": "Python 3",
   "language": "python",
   "name": "python3"
  },
  "language_info": {
   "codemirror_mode": {
    "name": "ipython",
    "version": 3
   },
   "file_extension": ".py",
   "mimetype": "text/x-python",
   "name": "python",
   "nbconvert_exporter": "python",
   "pygments_lexer": "ipython3",
   "version": "3.12.2"
  }
 },
 "nbformat": 4,
 "nbformat_minor": 2
}
