{
 "cells": [
  {
   "cell_type": "code",
   "execution_count": 1,
   "metadata": {},
   "outputs": [],
   "source": [
    "from PIL import Image\n",
    "import torch\n",
    "import torchvision\n",
    "import torchvision.models as models\n",
    "\n",
    "import torchvision.transforms as transforms\n",
    "import numpy as np\n",
    "import torch.nn as nn\n",
    "from torch.nn import functional as F\n",
    "import cv2\n",
    "\n",
    "import matplotlib.pyplot as plt"
   ]
  },
  {
   "cell_type": "code",
   "execution_count": 2,
   "metadata": {},
   "outputs": [
    {
     "data": {
      "text/plain": [
       "True"
      ]
     },
     "execution_count": 2,
     "metadata": {},
     "output_type": "execute_result"
    }
   ],
   "source": [
    "torch.cuda.is_available()"
   ]
  },
  {
   "cell_type": "code",
   "execution_count": 4,
   "metadata": {},
   "outputs": [
    {
     "name": "stderr",
     "output_type": "stream",
     "text": [
      "c:\\Users\\sirip\\AppData\\Local\\Programs\\Python\\Python312\\Lib\\site-packages\\torchvision\\models\\_utils.py:208: UserWarning: The parameter 'pretrained' is deprecated since 0.13 and may be removed in the future, please use 'weights' instead.\n",
      "  warnings.warn(\n",
      "c:\\Users\\sirip\\AppData\\Local\\Programs\\Python\\Python312\\Lib\\site-packages\\torchvision\\models\\_utils.py:223: UserWarning: Arguments other than a weight enum or `None` for 'weights' are deprecated since 0.13 and may be removed in the future. The current behavior is equivalent to passing `weights=None`.\n",
      "  warnings.warn(msg)\n",
      "C:\\Users\\sirip\\AppData\\Local\\Temp\\ipykernel_28316\\3406109731.py:21: FutureWarning: You are using `torch.load` with `weights_only=False` (the current default value), which uses the default pickle module implicitly. It is possible to construct malicious pickle data which will execute arbitrary code during unpickling (See https://github.com/pytorch/pytorch/blob/main/SECURITY.md#untrusted-models for more details). In a future release, the default value for `weights_only` will be flipped to `True`. This limits the functions that could be executed during unpickling. Arbitrary objects will no longer be allowed to be loaded via this mode unless they are explicitly allowlisted by the user via `torch.serialization.add_safe_globals`. We recommend you start setting `weights_only=True` for any use case where you don't have full control of the loaded file. Please open an issue on GitHub for any issues related to this experimental feature.\n",
      "  model.load_state_dict(torch.load('./weightsV3.h5'), strict=False)\n"
     ]
    },
    {
     "data": {
      "text/plain": [
       "<All keys matched successfully>"
      ]
     },
     "execution_count": 4,
     "metadata": {},
     "output_type": "execute_result"
    }
   ],
   "source": [
    "data_transform = transforms.Compose([\n",
    "    transforms.Resize((224, 224)),\n",
    "    transforms.ToTensor(),\n",
    "    transforms.Normalize(mean=[0.485, 0.456, 0.406], std=[0.229, 0.224, 0.225]),\n",
    "])\n",
    "\n",
    "\n",
    "device = torch.device(\"cuda:0\" if torch.cuda.is_available() else \"cpu\")\n",
    "model = models.resnet50(pretrained=False).to(device)\n",
    "# model.fc = nn.Sequential(\n",
    "#                nn.Linear(2048, 128),\n",
    "#                nn.ReLU(inplace=True),\n",
    "#                nn.Linear(128, 2)\n",
    "#                ).to(device)\n",
    "model.fc = nn.Sequential(\n",
    "    nn.Linear(2048, 128),\n",
    "    nn.ReLU(inplace=True),\n",
    "    nn.Dropout(0.5),\n",
    "    nn.Linear(128, 2)\n",
    "    ).to(device)\n",
    "model.load_state_dict(torch.load('./weightsV3.h5'), strict=False)\n",
    "# model.load_state_dict(torch.load('C:\\CPE\\image class\\weights.h5'))\n",
    "# model.load_state_dict(torch.load('C:\\CPE\\image class\\WeightsResnet_Old.h5'))\n"
   ]
  },
  {
   "cell_type": "code",
   "execution_count": 6,
   "metadata": {},
   "outputs": [],
   "source": [
    "num = 1\n",
    "\n",
    "\n",
    "input_path = \"img/\"  \n",
    "# image_path = f\"67non1-  ({num}).jpg\" \n",
    "# image_path = f\"CBBRYG1-{num}.jpg\"\n",
    "# image_path = f\"67H1T 1-  ({num}).jpg\"\n",
    "image_path = f\"Veg_fruit_{num}.jpg\"\n",
    "# image_path = f\"veg_farm_{num}.jpg\"\n",
    "\n",
    "\n",
    "# input_path = \"pin/\"  \n",
    "# image_path = f\"foodthai_{num}.jpg\" \n",
    "\n"
   ]
  },
  {
   "cell_type": "code",
   "execution_count": 7,
   "metadata": {},
   "outputs": [
    {
     "name": "stdout",
     "output_type": "stream",
     "text": [
      "[[9.9965537e-01 3.4461805e-04]]\n",
      "[0]\n",
      "Veg_fruit_1.jpg\n",
      "Non-Target\n"
     ]
    }
   ],
   "source": [
    "# input_path = \"rubber/\"\n",
    "# image_path = f\"65SKA05_1LFNS_{num}.jpg\"\n",
    "# image_path = f\"65SKA05_1mixLFS_PM_{num}.jpg\"\n",
    "\n",
    "try:\n",
    "    img = Image.open(input_path + image_path)\n",
    "    img_tensor = data_transform(img).unsqueeze(0) \n",
    "    model.eval()\n",
    "    # ทำนายภาพ\n",
    "    with torch.no_grad():\n",
    "        pred_logits_tensor = model(img_tensor.to(device))\n",
    "        pred_probs = F.softmax(pred_logits_tensor, dim=1).cpu().data.numpy()\n",
    "        print(pred_probs)\n",
    "        ans = np.argmax(pred_probs, axis=1)\n",
    "\n",
    "    # plt.imshow(img)\n",
    "    # plt.show()\n",
    "    print(ans)\n",
    "    print(image_path)\n",
    "    # แสดงผลลัพธ์\n",
    "    if ans == 1:\n",
    "        print(\"Targer\")\n",
    "        ##ทำYOLOต่อ###\n",
    "    else:\n",
    "        print(\"Non-Target\")\n",
    "except:\n",
    "    print(\"\")\n",
    "\n",
    "num += 1"
   ]
  },
  {
   "cell_type": "code",
   "execution_count": 17,
   "metadata": {},
   "outputs": [
    {
     "name": "stdout",
     "output_type": "stream",
     "text": [
      "0\n",
      "2\n",
      "4\n",
      "6\n",
      "8\n"
     ]
    }
   ],
   "source": [
    "x = 8\n",
    "\n",
    "for i in range(0, 10, 2):\n",
    "    print(i)\n"
   ]
  },
  {
   "cell_type": "code",
   "execution_count": null,
   "metadata": {},
   "outputs": [],
   "source": []
  }
 ],
 "metadata": {
  "kernelspec": {
   "display_name": "Python 3",
   "language": "python",
   "name": "python3"
  },
  "language_info": {
   "codemirror_mode": {
    "name": "ipython",
    "version": 3
   },
   "file_extension": ".py",
   "mimetype": "text/x-python",
   "name": "python",
   "nbconvert_exporter": "python",
   "pygments_lexer": "ipython3",
   "version": "3.12.2"
  }
 },
 "nbformat": 4,
 "nbformat_minor": 2
}
